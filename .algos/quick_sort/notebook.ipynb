{
 "cells": [
  {
   "cell_type": "code",
   "execution_count": 8,
   "id": "34487ccc-ed3e-45bc-8617-d0aa646ed2bd",
   "metadata": {},
   "outputs": [
    {
     "name": "stdout",
     "output_type": "stream",
     "text": [
      "[100, -83, 51, -63, 92, -70, -56, -6, 91, 44]\n"
     ]
    }
   ],
   "source": [
    "import random\n",
    "\n",
    "lowest_random = -100\n",
    "highest_random = 100\n",
    "length_random = 10\n",
    "\n",
    "random_numbers = [random.randint(lowest_random, highest_random) for n in range(length_random)]\n",
    "\n",
    "print(random_numbers)"
   ]
  },
  {
   "cell_type": "code",
   "execution_count": 9,
   "id": "b50be2ee",
   "metadata": {},
   "outputs": [],
   "source": [
    "from main import partition, quick_sort"
   ]
  },
  {
   "cell_type": "code",
   "execution_count": 10,
   "id": "e591417d",
   "metadata": {},
   "outputs": [
    {
     "name": "stdout",
     "output_type": "stream",
     "text": [
      "[-83, -70, -63, -56, -6, 44, 51, 91, 92, 100]\n"
     ]
    }
   ],
   "source": [
    "quick_sort(random_numbers, 0, len(random_numbers)-1)\n",
    "print(random_numbers)"
   ]
  }
 ],
 "metadata": {
  "kernelspec": {
   "display_name": "Python 3.10.8 64-bit",
   "language": "python",
   "name": "python3"
  },
  "language_info": {
   "codemirror_mode": {
    "name": "ipython",
    "version": 3
   },
   "file_extension": ".py",
   "mimetype": "text/x-python",
   "name": "python",
   "nbconvert_exporter": "python",
   "pygments_lexer": "ipython3",
   "version": "3.10.8"
  },
  "vscode": {
   "interpreter": {
    "hash": "b0fa6594d8f4cbf19f97940f81e996739fb7646882a419484c72d19e05852a7e"
   }
  }
 },
 "nbformat": 4,
 "nbformat_minor": 5
}
