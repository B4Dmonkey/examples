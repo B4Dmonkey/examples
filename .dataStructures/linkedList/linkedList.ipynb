{
 "cells": [
  {
   "cell_type": "code",
   "execution_count": 1,
   "id": "2edeb243",
   "metadata": {},
   "outputs": [],
   "source": [
    "from main import Node, LinkedList"
   ]
  },
  {
   "cell_type": "code",
   "execution_count": 2,
   "id": "c1caae3a-bfd2-4531-9914-ba8baa806aba",
   "metadata": {},
   "outputs": [
    {
     "name": "stdout",
     "output_type": "stream",
     "text": [
      "example node: Node: <data: 1\tnext: Node(None)>\n"
     ]
    }
   ],
   "source": [
    "example_node = Node(1)\n",
    "print(f\"example node: { example_node }\")"
   ]
  },
  {
   "cell_type": "code",
   "execution_count": 3,
   "id": "4804d35e-ec9a-4bb5-954c-10fe34889eed",
   "metadata": {},
   "outputs": [
    {
     "name": "stdout",
     "output_type": "stream",
     "text": [
      "[79, -29, -71, 9, -1, -45, 97, -38, 43, -15]\n"
     ]
    }
   ],
   "source": [
    "import random\n",
    "\n",
    "lowest_random = -100\n",
    "highest_random = 100\n",
    "length_random = 10\n",
    "\n",
    "random_numbers = [random.randint(lowest_random, highest_random) for n in range(length_random)]\n",
    "\n",
    "print(random_numbers)"
   ]
  },
  {
   "cell_type": "code",
   "execution_count": 4,
   "id": "ac54a0d3-8a3b-4fd2-8f71-7d2604946197",
   "metadata": {},
   "outputs": [
    {
     "name": "stdout",
     "output_type": "stream",
     "text": [
      "Head node: Node: <data: 79\tnext: Node(None)>\n"
     ]
    }
   ],
   "source": [
    "head_node = Node(random_numbers[0])\n",
    "print(f\"Head node: { head_node }\")"
   ]
  },
  {
   "cell_type": "code",
   "execution_count": 5,
   "id": "4023d509",
   "metadata": {},
   "outputs": [
    {
     "name": "stdout",
     "output_type": "stream",
     "text": [
      "Linked List\n",
      "0:\tNode: <data: -15\tnext: Node(43)>\n",
      "1:\tNode: <data: 43\tnext: Node(-38)>\n",
      "2:\tNode: <data: -38\tnext: Node(97)>\n",
      "3:\tNode: <data: 97\tnext: Node(-45)>\n",
      "4:\tNode: <data: -45\tnext: Node(-1)>\n",
      "5:\tNode: <data: -1\tnext: Node(9)>\n",
      "6:\tNode: <data: 9\tnext: Node(-71)>\n",
      "7:\tNode: <data: -71\tnext: Node(-29)>\n",
      "8:\tNode: <data: -29\tnext: Node(79)>\n",
      "9:\tNode: <data: 79\tnext: Node(None)>\n",
      "\n"
     ]
    }
   ],
   "source": [
    "linked_list = LinkedList(head_node)\n",
    "\n",
    "# * Start from the second element as the first is already inserted\n",
    "for data in random_numbers[1:]:\n",
    "  linked_list.insert(Node(data))\n",
    "print(f\"Linked List\\n{ linked_list }\")"
   ]
  },
  {
   "cell_type": "code",
   "execution_count": 6,
   "id": "58906dc2",
   "metadata": {},
   "outputs": [
    {
     "name": "stdout",
     "output_type": "stream",
     "text": [
      "Random Value: -1\tIndex: 4\n",
      "Search Result: Node: <data: -1\tnext: Node(9)>\n"
     ]
    }
   ],
   "source": [
    "random_index = random.randint(0, length_random - 1)\n",
    "random_value = random_numbers [ random_index ]\n",
    "\n",
    "print(f\"Random Value: { random_value }\\tIndex: { random_index }\")\n",
    "\n",
    "search_result = linked_list.search( random_value )\n",
    "print(f\"Search Result: { search_result }\")"
   ]
  },
  {
   "cell_type": "code",
   "execution_count": 7,
   "id": "c8e76733",
   "metadata": {},
   "outputs": [
    {
     "name": "stdout",
     "output_type": "stream",
     "text": [
      "Updated Linked List\n",
      "0:\tNode: <data: -15\tnext: Node(43)>\n",
      "1:\tNode: <data: 43\tnext: Node(-38)>\n",
      "2:\tNode: <data: -38\tnext: Node(97)>\n",
      "3:\tNode: <data: 97\tnext: Node(-45)>\n",
      "4:\tNode: <data: -45\tnext: Node(9)>\n",
      "5:\tNode: <data: 9\tnext: Node(-71)>\n",
      "6:\tNode: <data: -71\tnext: Node(-29)>\n",
      "7:\tNode: <data: -29\tnext: Node(79)>\n",
      "8:\tNode: <data: 79\tnext: Node(None)>\n",
      "\n"
     ]
    }
   ],
   "source": [
    "linked_list.delete( random_value )\n",
    "print(f\"Updated Linked List\\n{ linked_list }\")"
   ]
  }
 ],
 "metadata": {
  "kernelspec": {
   "display_name": "Python 3.9.6 64-bit",
   "language": "python",
   "name": "python3"
  },
  "language_info": {
   "codemirror_mode": {
    "name": "ipython",
    "version": 3
   },
   "file_extension": ".py",
   "mimetype": "text/x-python",
   "name": "python",
   "nbconvert_exporter": "python",
   "pygments_lexer": "ipython3",
   "version": "3.9.6"
  },
  "vscode": {
   "interpreter": {
    "hash": "31f2aee4e71d21fbe5cf8b01ff0e069b9275f58929596ceb00d14d90e3e16cd6"
   }
  }
 },
 "nbformat": 4,
 "nbformat_minor": 5
}
