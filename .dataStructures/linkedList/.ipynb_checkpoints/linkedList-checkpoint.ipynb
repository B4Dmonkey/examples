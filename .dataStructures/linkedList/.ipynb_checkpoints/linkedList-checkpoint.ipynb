{
 "cells": [
  {
   "cell_type": "code",
   "execution_count": null,
   "id": "ca74e5e3-c62e-4bf7-bde3-76b3db8229d8",
   "metadata": {},
   "outputs": [],
   "source": [
    "class Node:\n",
    "  def __init__(self, data):\n",
    "    self.data = data\n",
    "    self.next = None"
   ]
  },
  {
   "cell_type": "code",
   "execution_count": 4,
   "id": "4804d35e-ec9a-4bb5-954c-10fe34889eed",
   "metadata": {},
   "outputs": [
    {
     "name": "stdout",
     "output_type": "stream",
     "text": [
      "[-88, -79, 75, 89, -66, 17, -23, 20, -78, 63, 23, -2, 54, 75, -59, 95, -8, 2, -84, 21, -39, 74, -76, 68, 41, 89, 28, -55, -44, -84, -31, -99, 8, 36, -28, 46, 95, 27, -67, -67, 30, 7, 18, -78, 4, 74, 28, 51, -7, 0, -95, -29, 85, 11, -35, 12, -75, -52, -83, 95, 44, -90, -59, -42, 94, -44, 16, -27, -54, -6, 73, 81, 72, -34, -96, 51, -45, 25, -28, 94, 50, -86, -90, -79, -82, 19, 33, -10, -29, -4, 43, 38, 22, -22, -38, -29, 47, -81, 43, 83]\n"
     ]
    }
   ],
   "source": [
    "import random\n",
    "random_numbers = [random.randint(-100,100) for n in range(100)]\n",
    "print(random_numbers)"
   ]
  },
  {
   "cell_type": "code",
   "execution_count": null,
   "id": "ac54a0d3-8a3b-4fd2-8f71-7d2604946197",
   "metadata": {},
   "outputs": [],
   "source": []
  }
 ],
 "metadata": {
  "kernelspec": {
   "display_name": "Python 3 (ipykernel)",
   "language": "python",
   "name": "python3"
  },
  "language_info": {
   "codemirror_mode": {
    "name": "ipython",
    "version": 3
   },
   "file_extension": ".py",
   "mimetype": "text/x-python",
   "name": "python",
   "nbconvert_exporter": "python",
   "pygments_lexer": "ipython3",
   "version": "3.10.8"
  }
 },
 "nbformat": 4,
 "nbformat_minor": 5
}
